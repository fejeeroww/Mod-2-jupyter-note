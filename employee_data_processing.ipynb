{
 "cells": [
  {
   "cell_type": "code",
   "execution_count": 23,
   "id": "9c3f3047-a15b-4a29-9022-70ade99a2f66",
   "metadata": {},
   "outputs": [
    {
     "name": "stdout",
     "output_type": "stream",
     "text": [
      "Requirement already satisfied: pandas in c:\\users\\lady fej\\anaconda3\\lib\\site-packages (2.2.2)\n",
      "Requirement already satisfied: numpy>=1.26.0 in c:\\users\\lady fej\\anaconda3\\lib\\site-packages (from pandas) (1.26.4)\n",
      "Requirement already satisfied: python-dateutil>=2.8.2 in c:\\users\\lady fej\\anaconda3\\lib\\site-packages (from pandas) (2.9.0.post0)\n",
      "Requirement already satisfied: pytz>=2020.1 in c:\\users\\lady fej\\anaconda3\\lib\\site-packages (from pandas) (2024.1)\n",
      "Requirement already satisfied: tzdata>=2022.7 in c:\\users\\lady fej\\anaconda3\\lib\\site-packages (from pandas) (2023.3)\n",
      "Requirement already satisfied: six>=1.5 in c:\\users\\lady fej\\anaconda3\\lib\\site-packages (from python-dateutil>=2.8.2->pandas) (1.16.0)\n"
     ]
    }
   ],
   "source": [
    "!pip install pandas"
   ]
  },
  {
   "cell_type": "markdown",
   "id": "acf09538-9f50-47df-99a1-2521d3c7436b",
   "metadata": {},
   "source": [
    "# 1) Importing CSV salary file into Jupyternotebook"
   ]
  },
  {
   "cell_type": "code",
   "execution_count": 86,
   "id": "bbac11a0-3afe-4307-bb3c-e6c58c0a72f5",
   "metadata": {},
   "outputs": [],
   "source": [
    "import pandas as pd\n",
    "import csv\n",
    "import os\n",
    "import zipfile"
   ]
  },
  {
   "cell_type": "code",
   "execution_count": 27,
   "id": "525de63c-c916-4b3d-8bf4-038dbc0ff9ef",
   "metadata": {},
   "outputs": [],
   "source": [
    "# Define the file path\n",
    "file_path = r\"C:/jupyter notebook assignment mod 2\\salary_data.csv\""
   ]
  },
  {
   "cell_type": "code",
   "execution_count": 29,
   "id": "8057e5b6-6b77-4c02-9728-4ebf3ba83893",
   "metadata": {},
   "outputs": [
    {
     "name": "stderr",
     "output_type": "stream",
     "text": [
      "C:\\Users\\LADY FEJ\\AppData\\Local\\Temp\\ipykernel_7456\\809542075.py:2: DtypeWarning: Columns (2,3,4,5) have mixed types. Specify dtype option on import or set low_memory=False.\n",
      "  df = pd.read_csv(file_path)\n"
     ]
    }
   ],
   "source": [
    "# Read the CSV file\n",
    "df = pd.read_csv(file_path)"
   ]
  },
  {
   "cell_type": "code",
   "execution_count": 49,
   "id": "e64902d6-ae8e-4327-b82f-5d78abe30e52",
   "metadata": {
    "scrolled": true
   },
   "outputs": [
    {
     "name": "stdout",
     "output_type": "stream",
     "text": [
      "        EmployeeName                                        JobTitle  \\\n",
      "0     NATHANIEL FORD  GENERAL MANAGER-METROPOLITAN TRANSIT AUTHORITY   \n",
      "1       GARY JIMENEZ                 CAPTAIN III (POLICE DEPARTMENT)   \n",
      "2     ALBERT PARDINI                 CAPTAIN III (POLICE DEPARTMENT)   \n",
      "3  CHRISTOPHER CHONG            WIRE ROPE CABLE MAINTENANCE MECHANIC   \n",
      "4    PATRICK GARDNER    DEPUTY CHIEF OF DEPARTMENT,(FIRE DEPARTMENT)   \n",
      "\n",
      "     BasePay OvertimePay   OtherPay      Benefits   TotalPay  \\\n",
      "0  167411.18        0.00  400184.25  Not Provided  567595.43   \n",
      "1  155966.02   245131.88  137811.38  Not Provided  538909.28   \n",
      "2  212739.13   106088.18   16452.60  Not Provided  335279.91   \n",
      "3   77916.00    56120.71  198306.90  Not Provided  332343.61   \n",
      "4  134401.60     9737.00  182234.59  Not Provided  326373.19   \n",
      "\n",
      "   TotalPayBenefits  Year  \n",
      "0         567595.43  2011  \n",
      "1         538909.28  2011  \n",
      "2         335279.91  2011  \n",
      "3         332343.61  2011  \n",
      "4         326373.19  2011  \n",
      "<class 'pandas.core.frame.DataFrame'>\n",
      "RangeIndex: 312882 entries, 0 to 312881\n",
      "Data columns (total 9 columns):\n",
      " #   Column            Non-Null Count   Dtype  \n",
      "---  ------            --------------   -----  \n",
      " 0   EmployeeName      312882 non-null  object \n",
      " 1   JobTitle          312882 non-null  object \n",
      " 2   BasePay           312882 non-null  object \n",
      " 3   OvertimePay       312882 non-null  object \n",
      " 4   OtherPay          312882 non-null  object \n",
      " 5   Benefits          312882 non-null  object \n",
      " 6   TotalPay          312882 non-null  float64\n",
      " 7   TotalPayBenefits  312882 non-null  float64\n",
      " 8   Year              312882 non-null  int64  \n",
      "dtypes: float64(2), int64(1), object(6)\n",
      "memory usage: 21.5+ MB\n",
      "None\n"
     ]
    }
   ],
   "source": [
    "import pandas as pd\n",
    "\n",
    "file_path = r\"C:\\jupyter notebook assignment mod 2\\salary_data.csv\"\n",
    "dtypes = {\n",
    "    2: str,  # Change to appropriate type (int, float, str) based on your data\n",
    "    3: str,\n",
    "    4: str,\n",
    "    5: str\n",
    "}\n",
    "\n",
    "df = pd.read_csv(file_path, dtype=dtypes)\n",
    "\n",
    "print(df.head())\n",
    "print(df.info())"
   ]
  },
  {
   "cell_type": "code",
   "execution_count": 41,
   "id": "71dff334-b18d-466a-ae3f-64afe9b39a5a",
   "metadata": {},
   "outputs": [
    {
     "name": "stdout",
     "output_type": "stream",
     "text": [
      "Column names:\n",
      "Index(['EmployeeName', 'JobTitle', 'BasePay', 'OvertimePay', 'OtherPay',\n",
      "       'Benefits', 'TotalPay', 'TotalPayBenefits', 'Year'],\n",
      "      dtype='object')\n",
      "\n",
      "First few rows:\n",
      "        EmployeeName                                        JobTitle  \\\n",
      "0     NATHANIEL FORD  GENERAL MANAGER-METROPOLITAN TRANSIT AUTHORITY   \n",
      "1       GARY JIMENEZ                 CAPTAIN III (POLICE DEPARTMENT)   \n",
      "2     ALBERT PARDINI                 CAPTAIN III (POLICE DEPARTMENT)   \n",
      "3  CHRISTOPHER CHONG            WIRE ROPE CABLE MAINTENANCE MECHANIC   \n",
      "4    PATRICK GARDNER    DEPUTY CHIEF OF DEPARTMENT,(FIRE DEPARTMENT)   \n",
      "\n",
      "     BasePay OvertimePay   OtherPay      Benefits   TotalPay  \\\n",
      "0  167411.18        0.00  400184.25  Not Provided  567595.43   \n",
      "1  155966.02   245131.88  137811.38  Not Provided  538909.28   \n",
      "2  212739.13   106088.18   16452.60  Not Provided  335279.91   \n",
      "3   77916.00    56120.71  198306.90  Not Provided  332343.61   \n",
      "4  134401.60     9737.00  182234.59  Not Provided  326373.19   \n",
      "\n",
      "   TotalPayBenefits  Year  \n",
      "0         567595.43  2011  \n",
      "1         538909.28  2011  \n",
      "2         335279.91  2011  \n",
      "3         332343.61  2011  \n",
      "4         326373.19  2011  \n",
      "\n",
      "DataFrame Info:\n",
      "<class 'pandas.core.frame.DataFrame'>\n",
      "RangeIndex: 312882 entries, 0 to 312881\n",
      "Data columns (total 9 columns):\n",
      " #   Column            Non-Null Count   Dtype  \n",
      "---  ------            --------------   -----  \n",
      " 0   EmployeeName      312882 non-null  object \n",
      " 1   JobTitle          312882 non-null  object \n",
      " 2   BasePay           312882 non-null  object \n",
      " 3   OvertimePay       312882 non-null  object \n",
      " 4   OtherPay          312882 non-null  object \n",
      " 5   Benefits          312882 non-null  object \n",
      " 6   TotalPay          312882 non-null  float64\n",
      " 7   TotalPayBenefits  312882 non-null  float64\n",
      " 8   Year              312882 non-null  int64  \n",
      "dtypes: float64(2), int64(1), object(6)\n",
      "memory usage: 21.5+ MB\n",
      "None\n"
     ]
    }
   ],
   "source": [
    "import pandas as pd\n",
    "df = pd.read_csv(r\"C:\\jupyter notebook assignment mod 2\\salary_data.csv\", low_memory=False)\n",
    "print(\"Column names:\")\n",
    "print(df.columns)\n",
    "print(\"\\nFirst few rows:\")\n",
    "print(df.head())\n",
    "\n",
    "# Display basic information about the DataFrame\n",
    "print(\"\\nDataFrame Info:\")\n",
    "print(df.info())"
   ]
  },
  {
   "cell_type": "markdown",
   "id": "fbfdc89d-8019-4945-a82c-2116ea2b8576",
   "metadata": {},
   "source": [
    "## 2. Function to accept an employee's name as input and returns their details.\r\n"
   ]
  },
  {
   "cell_type": "markdown",
   "id": "ad3e416e-8033-497e-a34f-e23ac7622617",
   "metadata": {},
   "source": [
    "\n",
    "def get_employee_details(name, df):\n",
    "    # Find the employee in the DataFrame\n",
    "    employee = df[df['EmployeeName'].str.lower() == name.lower()]\n",
    "    \n",
    "    # Check if the employee was found\n",
    "    if employee.empty:\n",
    "        return f\"No employee found with the name: {name}\"\n",
    "    \n",
    "    # If found, return the employee details as a formatted string\n",
    "    employee_details = employee.iloc[0]\n",
    "    \n",
    "    formatted_details = f\"Employee Details for {employee_details['EmployeeName']}:\\n\"\n",
    "    formatted_details += f\"Job Title: {employee_details['JobTitle']}\\n\"\n",
    "    formatted_details += f\"Base Pay: ${pd.to_numeric(employee_details['BasePay'], errors='coerce'):,.2f}\\n\"\n",
    "    formatted_details += f\"Overtime Pay: ${pd.to_numeric(employee_details['OvertimePay'], errors='coerce'):,.2f}\\n\"\n",
    "    formatted_details += f\"Other Pay: ${pd.to_numeric(employee_details['OtherPay'], errors='coerce'):,.2f}\\n\"\n",
    "    formatted_details += f\"Benefits: {employee_details['Benefits']}\\n\"\n",
    "    formatted_details += f\"Total Pay: ${employee_details['TotalPay']:,.2f}\\n\"\n",
    "    formatted_details += f\"Total Pay & Benefits: ${employee_details['TotalPayBenefits']:,.2f}\\n\"\n",
    "    formatted_details += f\"Year: {employee_details['Year']}\"\n",
    "    \n",
    "    return formatted_details\n",
    "\n",
    "print(get_employee_details(\"Nathaniel Ford\", df))\n",
    "print(\"\\n\")  # Add a blank line for readability\n",
    "print(get_employee_details(\"Gary Jimenez\", df))"
   ]
  },
  {
   "cell_type": "code",
   "execution_count": 52,
   "id": "747709d4-e375-4ad0-8f08-37ab442a0aea",
   "metadata": {
    "scrolled": true
   },
   "outputs": [
    {
     "name": "stdout",
     "output_type": "stream",
     "text": [
      "Employee Details for ALBERT PARDINI:\n",
      "Job Title: CAPTAIN III (POLICE DEPARTMENT)\n",
      "Base Pay: $212,739.13\n",
      "Overtime Pay: $106,088.18\n",
      "Other Pay: $16,452.60\n",
      "Benefits: Not Provided\n",
      "Total Pay: $335,279.91\n",
      "Total Pay & Benefits: $335,279.91\n",
      "Year: 2011\n"
     ]
    }
   ],
   "source": [
    "print(get_employee_details(\"Albert Pardini\", df))"
   ]
  },
  {
   "cell_type": "markdown",
   "id": "cfbf690c-aa97-4e2d-9466-8bc83ab057b9",
   "metadata": {},
   "source": [
    "## 3) Function to Process the salary data using a Python dictionary."
   ]
  },
  {
   "cell_type": "code",
   "execution_count": 69,
   "id": "e65ae2ad-68f8-4f47-b628-07beead5f4b4",
   "metadata": {},
   "outputs": [
    {
     "name": "stdout",
     "output_type": "stream",
     "text": [
      "NATHANIEL FORD: GENERAL MANAGER-METROPOLITAN TRANSIT AUTHORITY, Total Pay: $567,595.43\n",
      "GARY JIMENEZ: CAPTAIN III (POLICE DEPARTMENT), Total Pay: $538,909.28\n",
      "\n",
      "Top 5 earners:\n",
      "Paulo Morgado: $592,394.34\n",
      "NATHANIEL FORD: $567,595.43\n",
      "William J Coaker Jr.: $560,793.00\n",
      "GARY JIMENEZ: $538,909.28\n",
      "David Shinn: $471,952.64\n"
     ]
    }
   ],
   "source": [
    "# Process salary data into a dictionary\n",
    "employee_dict = {row['EmployeeName'].lower(): dict(row) for _, row in df.iterrows()}\n",
    "\n",
    "# Function to get employee details\n",
    "def get_employee_details(name):\n",
    "    emp = employee_dict.get(name.lower())\n",
    "    if emp:\n",
    "        return f\"{emp['EmployeeName']}: {emp['JobTitle']}, Total Pay: ${emp['TotalPay']:,.2f}\"\n",
    "    return f\"No employee found: {name}\"\n",
    "    \n",
    "print(get_employee_details(\"Nathaniel Ford\"))\n",
    "print(get_employee_details(\"Gary Jimenez\"))\n",
    "\n",
    "top_earners = sorted(employee_dict.values(), key=lambda x: x['TotalPay'], reverse=True)[:5]\n",
    "print(\"\\nTop 5 earners:\")\n",
    "for emp in top_earners:\n",
    "    print(f\"{emp['EmployeeName']}: ${emp['TotalPay']:,.2f}\")"
   ]
  },
  {
   "cell_type": "code",
   "execution_count": 71,
   "id": "f8f16cd1-0c77-465e-9b1d-65e5d53016b8",
   "metadata": {},
   "outputs": [
    {
     "name": "stdout",
     "output_type": "stream",
     "text": [
      "Name: NATHANIEL FORD\n",
      "Job Title: GENERAL MANAGER-METROPOLITAN TRANSIT AUTHORITY\n",
      "Base Pay: $167,411.18\n",
      "Total Pay: $567,595.43\n",
      "\n",
      "\n",
      "Name: GARY JIMENEZ\n",
      "Job Title: CAPTAIN III (POLICE DEPARTMENT)\n",
      "Base Pay: $155,966.02\n",
      "Total Pay: $538,909.28\n"
     ]
    }
   ],
   "source": [
    "# Create a dictionary of employees\n",
    "employees = {row['EmployeeName'].lower(): dict(row) for _, row in df.iterrows()}\n",
    "\n",
    "def display_employee_salary(name):\n",
    "    employee = employees.get(name.lower())\n",
    "    if employee:\n",
    "        print(f\"Name: {employee['EmployeeName']}\")\n",
    "        print(f\"Job Title: {employee['JobTitle']}\")\n",
    "        print(f\"Base Pay: ${float(employee['BasePay']):,.2f}\")\n",
    "        print(f\"Total Pay: ${employee['TotalPay']:,.2f}\")\n",
    "    else:\n",
    "        print(f\"No employee found with name: {name}\")\n",
    "\n",
    "display_employee_salary(\"NATHANIEL FORD\")\n",
    "print(\"\\n\")\n",
    "display_employee_salary(\"GARY JIMENEZ\")"
   ]
  },
  {
   "cell_type": "markdown",
   "id": "e6e1ec14-71f7-4dc0-a28d-24af8e9d3b33",
   "metadata": {},
   "source": [
    "## 4) Error Handling"
   ]
  },
  {
   "cell_type": "code",
   "execution_count": 82,
   "id": "e1bf830f-4d5d-4568-82dc-1b839ecd0267",
   "metadata": {},
   "outputs": [
    {
     "name": "stdout",
     "output_type": "stream",
     "text": [
      "Name: NATHANIEL FORD\n",
      "Job Title: GENERAL MANAGER-METROPOLITAN TRANSIT AUTHORITY\n",
      "An unexpected error occurred: Unknown format code 'f' for object of type 'str'\n",
      "\n",
      "\n",
      "Name: GARY JIMENEZ\n",
      "Job Title: CAPTAIN III (POLICE DEPARTMENT)\n",
      "An unexpected error occurred: Unknown format code 'f' for object of type 'str'\n",
      "\n",
      "\n",
      "No employee found with name: OGHENEFEJIRO PRINCESS UTI\n"
     ]
    }
   ],
   "source": [
    "def display_employee_salary(name):\n",
    "    try:\n",
    "        employee = employees.get(name.lower())\n",
    "        if employee:\n",
    "            print(f\"Name: {employee['EmployeeName']}\")\n",
    "            print(f\"Job Title: {employee['JobTitle']}\")\n",
    "            print(f\"Base Pay: ${employee['BasePay']:,.2f}\")\n",
    "            print(f\"Total Pay: ${employee['TotalPay']:,.2f}\")\n",
    "        else:\n",
    "            print(f\"No employee found with name: {name}\")\n",
    "    except KeyError as e:\n",
    "        print(f\"Error: Data for field {e} is missing for this employee.\")\n",
    "    except Exception as e:\n",
    "        print(f\"An unexpected error occurred: {e}\")\n",
    "\n",
    "# Error handling\n",
    "try:\n",
    "    display_employee_salary(\"NATHANIEL FORD\")\n",
    "    print(\"\\n\")\n",
    "    display_employee_salary(\"GARY JIMENEZ\")\n",
    "    print(\"\\n\")\n",
    "    display_employee_salary(\"OGHENEFEJIRO PRINCESS UTI\")\n",
    "except Exception as e:\n",
    "    print(f\"An unexpected error occurred: {e}\")\n",
    "\n"
   ]
  },
  {
   "cell_type": "markdown",
   "id": "9de2d5d6-6cfa-4ea2-bdd5-2a74f6330e7c",
   "metadata": {},
   "source": [
    "## 5) Export employee's details in zip file (Employee Profile)"
   ]
  },
  {
   "cell_type": "code",
   "execution_count": 90,
   "id": "4c4a653c-c136-4839-a22c-5c63c588a296",
   "metadata": {},
   "outputs": [
    {
     "name": "stdout",
     "output_type": "stream",
     "text": [
      "Employee details exported to Employee Profile\\PATRICK_GARDNER_profile.zip\n",
      "Employee details exported to Employee Profile\\GARY_JIMENEZ_profile.zip\n"
     ]
    }
   ],
   "source": [
    "def export_employee_to_zipped_csv(name):\n",
    "    # code to find the employee \n",
    "    employee = df[df['EmployeeName'].str.lower() == name.lower()]\n",
    "    \n",
    "    if employee.empty:\n",
    "        print(f\"No employee found with name: {name}\")\n",
    "        return\n",
    "    \n",
    "    # Create 'Employee Profile' folder if it doesn't exist\n",
    "    folder_name = \"Employee Profile\"\n",
    "    os.makedirs(folder_name, exist_ok=True)\n",
    "    \n",
    "    # Create CSV file name\n",
    "    csv_file_name = f\"{name.replace(' ', '_')}_profile.csv\"\n",
    "    csv_path = os.path.join(folder_name, csv_file_name)\n",
    "    \n",
    "    # Export to CSV\n",
    "    employee.to_csv(csv_path, index=False)\n",
    "    \n",
    "    # Create zip file name\n",
    "    zip_file_name = f\"{name.replace(' ', '_')}_profile.zip\"\n",
    "    zip_path = os.path.join(folder_name, zip_file_name)\n",
    "    \n",
    "    # Create zip file and add CSV\n",
    "    with zipfile.ZipFile(zip_path, 'w') as zipf:\n",
    "        zipf.write(csv_path, csv_file_name)\n",
    "    \n",
    "    # Remove the temporary CSV file\n",
    "    os.remove(csv_path)\n",
    "    \n",
    "    print(f\"Employee details exported to {zip_path}\")\n",
    "\n",
    "# trying the code\n",
    "export_employee_to_zipped_csv(\"PATRICK GARDNER\")\n",
    "export_employee_to_zipped_csv(\"GARY JIMENEZ\")"
   ]
  },
  {
   "cell_type": "markdown",
   "id": "ab089d4d-7944-4f78-b36a-9f31a859fb1a",
   "metadata": {},
   "source": [
    "## 6) Unzip with R script"
   ]
  },
  {
   "cell_type": "code",
   "execution_count": 96,
   "id": "b5a9aff3-4296-44e3-959d-464c46da8c1a",
   "metadata": {},
   "outputs": [
    {
     "ename": "SyntaxError",
     "evalue": "'{' was never closed (1664157301.py, line 6)",
     "output_type": "error",
     "traceback": [
      "\u001b[1;36m  Cell \u001b[1;32mIn[96], line 6\u001b[1;36m\u001b[0m\n\u001b[1;33m    unzip_and_display_employee_data <- function(employee_name) {\u001b[0m\n\u001b[1;37m                                                               ^\u001b[0m\n\u001b[1;31mSyntaxError\u001b[0m\u001b[1;31m:\u001b[0m '{' was never closed\n"
     ]
    }
   ],
   "source": [
    "library(readr)\n",
    "library(dplyr)\n",
    "library(zip)\n",
    "\n",
    "# Funzip and display employee data\n",
    "unzip_and_display_employee_data <- function(employee_name) {\n",
    "  # Replace spaces with underscores in the employee name\n",
    "  file_name <- gsub(\" \", \"_\", employee_name)\n",
    "  zip_path <- file.path(\"Employee Profile\", paste0(file_name, \"_profile.zip\"))\n",
    "  if (!file.exists(zip_path)) {\n",
    "    cat(\"Error: Zip file not found for\", employee_name, \"\\n\")\n",
    "    return(NULL)\n",
    "  }\n",
    "  \n",
    "  temp_dir <- tempdir()\n",
    "  unzip(zip_path, exdir = temp_dir)\n",
    "  csv_path <- file.path(temp_dir, paste0(file_name, \"_profile.csv\"))\n",
    "  \n",
    "  # Read the CSV file\n",
    "  employee_data <- read_csv(csv_path)\n",
    "  \n",
    "  # Display the data\n",
    "  cat(\"Employee Data for\", employee_name, \":\\n\")\n",
    "  print(employee_data)\n",
    "  file.remove(csv_path)\n",
    "\n",
    "unzip_and_display_employee_data(\"CHRISTOPHER CHONG\")\n",
    "unzip_and_display_employee_data(\"GARY JIMENEZ\")"
   ]
  },
  {
   "cell_type": "code",
   "execution_count": null,
   "id": "b01e7a28-b87c-45b0-bab8-2e2d3dc45055",
   "metadata": {},
   "outputs": [],
   "source": []
  }
 ],
 "metadata": {
  "kernelspec": {
   "display_name": "Python 3 (ipykernel)",
   "language": "python",
   "name": "python3"
  },
  "language_info": {
   "codemirror_mode": {
    "name": "ipython",
    "version": 3
   },
   "file_extension": ".py",
   "mimetype": "text/x-python",
   "name": "python",
   "nbconvert_exporter": "python",
   "pygments_lexer": "ipython3",
   "version": "3.12.4"
  }
 },
 "nbformat": 4,
 "nbformat_minor": 5
}
